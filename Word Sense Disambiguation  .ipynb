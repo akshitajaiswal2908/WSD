{
 "cells": [
  {
   "cell_type": "markdown",
   "id": "d597fbf2",
   "metadata": {},
   "source": [
    "# Importing the libraies"
   ]
  },
  {
   "cell_type": "markdown",
   "id": "09c89419",
   "metadata": {},
   "source": [
    "Importing libraries in for the  project is crucial for efficient development:\n",
    "\n",
    "- **Time-saving**: Pre-implemented functions save time.\n",
    "- **Optimized algorithms**: Efficient computation, especially with large datasets.\n",
    "- **Community support**: Access to knowledge and resources.\n",
    "- **Standardized interfaces**: Promotes code reusability.\n",
    "- **Flexibility**: Offers a wide range of algorithms.\n",
    "- **Ease of use**: User-friendly APIs and documentation."
   ]
  },
  {
   "cell_type": "code",
   "execution_count": 1,
   "id": "8ed2326b",
   "metadata": {},
   "outputs": [],
   "source": [
    "import numpy as np \n",
    "import pandas as pd\n",
    "import string"
   ]
  },
  {
   "cell_type": "markdown",
   "id": "2930a99c",
   "metadata": {},
   "source": [
    "# Loading the dataset "
   ]
  },
  {
   "cell_type": "markdown",
   "id": "dcd8d9ad",
   "metadata": {},
   "source": [
    "- **Size**: The dataset contains 37,500 rows and 75 columns.\n",
    "- **Context**: Each column represents an acronym with 500 associated contexts.\n",
    "\n",
    "[Download Dataset](https://conservancy.umn.edu/handle/11299/137703)"
   ]
  },
  {
   "cell_type": "code",
   "execution_count": 2,
   "id": "a9956f5b",
   "metadata": {},
   "outputs": [],
   "source": [
    "df = pd.read_excel(\"WSD Dataset.xlsx\")"
   ]
  },
  {
   "cell_type": "code",
   "execution_count": 3,
   "id": "9cb2e681",
   "metadata": {
    "scrolled": false
   },
   "outputs": [
    {
     "data": {
      "text/html": [
       "<div>\n",
       "<style scoped>\n",
       "    .dataframe tbody tr th:only-of-type {\n",
       "        vertical-align: middle;\n",
       "    }\n",
       "\n",
       "    .dataframe tbody tr th {\n",
       "        vertical-align: top;\n",
       "    }\n",
       "\n",
       "    .dataframe thead th {\n",
       "        text-align: right;\n",
       "    }\n",
       "</style>\n",
       "<table border=\"1\" class=\"dataframe\">\n",
       "  <thead>\n",
       "    <tr style=\"text-align: right;\">\n",
       "      <th></th>\n",
       "      <th>Abbreviation</th>\n",
       "      <th>Sense</th>\n",
       "      <th>Context</th>\n",
       "    </tr>\n",
       "  </thead>\n",
       "  <tbody>\n",
       "    <tr>\n",
       "      <th>0</th>\n",
       "      <td>AB</td>\n",
       "      <td>abortion</td>\n",
       "      <td>_%#NAME#%_ _%#NAME#%_ is a 29-year-old gravida...</td>\n",
       "    </tr>\n",
       "    <tr>\n",
       "      <th>1</th>\n",
       "      <td>AB</td>\n",
       "      <td>abortion</td>\n",
       "      <td>She is now bleeding quite heavily. Ultrasound ...</td>\n",
       "    </tr>\n",
       "    <tr>\n",
       "      <th>2</th>\n",
       "      <td>AB</td>\n",
       "      <td>abortion</td>\n",
       "      <td>ALLERGIES: Heparin and Imitrex. PAST OB HISTOR...</td>\n",
       "    </tr>\n",
       "    <tr>\n",
       "      <th>3</th>\n",
       "      <td>AB</td>\n",
       "      <td>abortion</td>\n",
       "      <td>She had a pelvic ultrasound at Park Nicollet o...</td>\n",
       "    </tr>\n",
       "    <tr>\n",
       "      <th>4</th>\n",
       "      <td>AB</td>\n",
       "      <td>abortion</td>\n",
       "      <td>On _%#MMDD2007#%_, normal anatomy with anterio...</td>\n",
       "    </tr>\n",
       "  </tbody>\n",
       "</table>\n",
       "</div>"
      ],
      "text/plain": [
       "  Abbreviation     Sense                                            Context\n",
       "0           AB  abortion  _%#NAME#%_ _%#NAME#%_ is a 29-year-old gravida...\n",
       "1           AB  abortion  She is now bleeding quite heavily. Ultrasound ...\n",
       "2           AB  abortion  ALLERGIES: Heparin and Imitrex. PAST OB HISTOR...\n",
       "3           AB  abortion  She had a pelvic ultrasound at Park Nicollet o...\n",
       "4           AB  abortion  On _%#MMDD2007#%_, normal anatomy with anterio..."
      ]
     },
     "execution_count": 3,
     "metadata": {},
     "output_type": "execute_result"
    }
   ],
   "source": [
    "df.head()"
   ]
  },
  {
   "cell_type": "markdown",
   "id": "844fccbc",
   "metadata": {},
   "source": [
    "The dataset contains information about abbreviations along with their senses and associated contexts:\n",
    "\n",
    "- **Abbreviations**: This column contains the abbreviations or acronyms.\n",
    "- **Sense**: This column represents the sense or meaning of the corresponding abbreviation.\n",
    "- **Context**: This column provides the context or usage examples associated with each abbreviation.\n",
    "\n",
    "### Summary:\n",
    "- **Number of Rows**: 37500 \n",
    "- **Number of Columns**: 3\n",
    "- **Data Types**: \n",
    "  - Abbreviations: String\n",
    "  - Sense: String\n",
    "  - Context: String"
   ]
  },
  {
   "cell_type": "code",
   "execution_count": 7,
   "id": "0d3a0d17",
   "metadata": {},
   "outputs": [],
   "source": [
    "df[\"Abbreviations\"] = df['Abbreviation']\n",
    "df['LABEL'] = df[\"Sense\"]\n",
    "df['TEXT'] = df[\"Context\"]"
   ]
  },
  {
   "cell_type": "markdown",
   "id": "d37d2f54",
   "metadata": {},
   "source": [
    "Explanation:\n",
    "\n",
    "- **Abbreviations**: Assigning values from the \"Abbreviation\" column to a new column named \"Abbreviations\".\n",
    "- **LABEL**: Assigning values from the \"Sense\" column to a new column named \"LABEL\".\n",
    "- **TEXT**: Assigning values from the \"Context\" column to a new column named \"TEXT\"."
   ]
  },
  {
   "cell_type": "code",
   "execution_count": 8,
   "id": "fef246a2",
   "metadata": {},
   "outputs": [],
   "source": [
    "del df['Abbreviation'], df['Sense'], df['Context']"
   ]
  },
  {
   "cell_type": "markdown",
   "id": "1de7e3d9",
   "metadata": {},
   "source": [
    "Explanation:\n",
    "\n",
    "The columns \"Abbreviation\", \"Sense\", and \"Context\" are deleted from the DataFrame (df).\n",
    "Removing these columns may be necessary if they are no longer needed for the analysis or modeling tasks."
   ]
  },
  {
   "cell_type": "markdown",
   "id": "b63ede6c",
   "metadata": {},
   "source": [
    "# Removing Punctuations for the TEXT "
   ]
  },
  {
   "cell_type": "code",
   "execution_count": 9,
   "id": "5a9f91b1",
   "metadata": {},
   "outputs": [],
   "source": [
    "def removePunctuation(df):\n",
    "    return [str(t).translate(str.maketrans('','',string.punctuation)) for t in df['TEXT']]\n",
    "\n",
    "df['TEXT'] = removePunctuation(df)"
   ]
  },
  {
   "cell_type": "markdown",
   "id": "ac76d087",
   "metadata": {},
   "source": [
    "Explanation:\n",
    "\n",
    "- **removePunctuation function**: This function takes a DataFrame (df) as input, iterates over the 'TEXT' column, and removes punctuation from each text entry using Python's translate function along with str.maketrans.\n",
    "- **Applying the function**: The function is applied to the 'TEXT' column of the DataFrame (df) using list comprehension, replacing the original text entries with the cleaned ones."
   ]
  },
  {
   "cell_type": "markdown",
   "id": "97975b25",
   "metadata": {},
   "source": [
    "# Creating Tokens from TEXT data "
   ]
  },
  {
   "cell_type": "code",
   "execution_count": 10,
   "id": "8878a182",
   "metadata": {},
   "outputs": [],
   "source": [
    "def createTokens(df):\n",
    "    return df['TEXT'].apply(lambda x: x.split(' '))\n",
    "\n",
    "df['TEXT'] = createTokens(df)"
   ]
  },
  {
   "cell_type": "markdown",
   "id": "94d533dd",
   "metadata": {},
   "source": [
    "Explanation:\n",
    "\n",
    "- **createTokens function**: This function takes a DataFrame (df) as input and applies a lambda function to split each text entry in the 'TEXT' column into tokens using whitespace as the delimiter.\n",
    "- **Applying the function**: The function is applied to the 'TEXT' column of the DataFrame (df), replacing the original text entries with lists of tokens."
   ]
  },
  {
   "cell_type": "markdown",
   "id": "94d2c0ce",
   "metadata": {},
   "source": [
    "# Importing Spacy "
   ]
  },
  {
   "cell_type": "code",
   "execution_count": 11,
   "id": "96930550",
   "metadata": {},
   "outputs": [],
   "source": [
    "import spacy\n",
    "nlp = spacy.load('en_core_web_sm')"
   ]
  },
  {
   "cell_type": "markdown",
   "id": "55a98867",
   "metadata": {},
   "source": [
    "Explanation:\n",
    "\n",
    "-**Importing spaCy**: The spacy library is imported to utilize its natural language processing capabilities.\n",
    "- **Loading English Language Model**: The English language model ('en_core_web_sm') is loaded using the spacy.load() function and assigned to the variable nlp."
   ]
  },
  {
   "cell_type": "markdown",
   "id": "02295fd4",
   "metadata": {},
   "source": [
    "# Removing Stopwords from TEXT "
   ]
  },
  {
   "cell_type": "code",
   "execution_count": 12,
   "id": "5e6616c3",
   "metadata": {},
   "outputs": [],
   "source": [
    "def removeStop(df):\n",
    "    stopWords = spacy.lang.en.stop_words.STOP_WORDS\n",
    "    [stopWords.remove(t) for t in df['Abbreviations'].str.lower() if t in stopWords]\n",
    "    return df['TEXT'].apply(lambda x: [item for item in x if not item in stopWords])\n",
    "\n",
    "df['TEXT']= removeStop(df)"
   ]
  },
  {
   "cell_type": "markdown",
   "id": "f5098b46",
   "metadata": {},
   "source": [
    "Explanation:\n",
    "\n",
    "- **removeStop function**: This function takes a DataFrame (df) as input and removes stopwords from each text entry in the 'TEXT' column. It utilizes the stop words list from the spaCy English language model.\n",
    "- **Removing stopwords**: Stopwords are removed from each text entry, excluding any stop words that are part of the abbreviations listed in the 'Abbreviations' column.\n",
    "- **Applying the function**: The function is applied to the 'TEXT' column of the DataFrame (df), updating the column with the text data without stopwords."
   ]
  },
  {
   "cell_type": "markdown",
   "id": "cad94d5f",
   "metadata": {},
   "source": [
    "# Converting TEXT to lowercase "
   ]
  },
  {
   "cell_type": "code",
   "execution_count": 13,
   "id": "0f47cd81",
   "metadata": {},
   "outputs": [],
   "source": [
    "def tolower(df):\n",
    "    return [' '.join([word.lower() for word in text]) for text in df['TEXT']]\n",
    "\n",
    "df['TEXT'] = tolower(df)"
   ]
  },
  {
   "cell_type": "markdown",
   "id": "a01f3dd0",
   "metadata": {},
   "source": [
    "Explanation:\n",
    "\n",
    "- **tolower function**: This function takes a DataFrame (df) as input and converts each word in the text data to lowercase.\n",
    "- **Converting to lowercase**: Each text entry is processed to convert all words to lowercase using list comprehension and the lower() method.\n",
    "- **Applying the function**: The function is applied to the 'TEXT' column of the DataFrame (df), updating the column with the text data converted to lowercase."
   ]
  },
  {
   "cell_type": "markdown",
   "id": "9413016e",
   "metadata": {},
   "source": [
    "# Splitting TEXT into Tokens "
   ]
  },
  {
   "cell_type": "code",
   "execution_count": 14,
   "id": "ebff380c",
   "metadata": {},
   "outputs": [
    {
     "data": {
      "text/html": [
       "<div>\n",
       "<style scoped>\n",
       "    .dataframe tbody tr th:only-of-type {\n",
       "        vertical-align: middle;\n",
       "    }\n",
       "\n",
       "    .dataframe tbody tr th {\n",
       "        vertical-align: top;\n",
       "    }\n",
       "\n",
       "    .dataframe thead th {\n",
       "        text-align: right;\n",
       "    }\n",
       "</style>\n",
       "<table border=\"1\" class=\"dataframe\">\n",
       "  <thead>\n",
       "    <tr style=\"text-align: right;\">\n",
       "      <th></th>\n",
       "      <th>Abbreviations</th>\n",
       "      <th>LABEL</th>\n",
       "      <th>TEXT</th>\n",
       "    </tr>\n",
       "  </thead>\n",
       "  <tbody>\n",
       "    <tr>\n",
       "      <th>0</th>\n",
       "      <td>AB</td>\n",
       "      <td>abortion</td>\n",
       "      <td>[name, name, 29yearold, gravida, 3, para, 2002...</td>\n",
       "    </tr>\n",
       "    <tr>\n",
       "      <th>1</th>\n",
       "      <td>AB</td>\n",
       "      <td>abortion</td>\n",
       "      <td>[she, bleeding, heavily, ultrasound, morning, ...</td>\n",
       "    </tr>\n",
       "    <tr>\n",
       "      <th>2</th>\n",
       "      <td>AB</td>\n",
       "      <td>abortion</td>\n",
       "      <td>[allergies, heparin, imitrex, past, ob, histor...</td>\n",
       "    </tr>\n",
       "    <tr>\n",
       "      <th>3</th>\n",
       "      <td>AB</td>\n",
       "      <td>abortion</td>\n",
       "      <td>[she, pelvic, ultrasound, park, nicollet, mmdd...</td>\n",
       "    </tr>\n",
       "    <tr>\n",
       "      <th>4</th>\n",
       "      <td>AB</td>\n",
       "      <td>abortion</td>\n",
       "      <td>[on, mmdd2007, normal, anatomy, anterior, plac...</td>\n",
       "    </tr>\n",
       "  </tbody>\n",
       "</table>\n",
       "</div>"
      ],
      "text/plain": [
       "  Abbreviations     LABEL                                               TEXT\n",
       "0            AB  abortion  [name, name, 29yearold, gravida, 3, para, 2002...\n",
       "1            AB  abortion  [she, bleeding, heavily, ultrasound, morning, ...\n",
       "2            AB  abortion  [allergies, heparin, imitrex, past, ob, histor...\n",
       "3            AB  abortion  [she, pelvic, ultrasound, park, nicollet, mmdd...\n",
       "4            AB  abortion  [on, mmdd2007, normal, anatomy, anterior, plac..."
      ]
     },
     "execution_count": 14,
     "metadata": {},
     "output_type": "execute_result"
    }
   ],
   "source": [
    "df['TEXT'] = df['TEXT'].str.split()\n",
    "\n",
    "df.head()"
   ]
  },
  {
   "cell_type": "markdown",
   "id": "6e05dcd6",
   "metadata": {},
   "source": [
    "Explanation:\n",
    "\n",
    "The text data in the 'TEXT' column is split into tokens using the split() method.<br>\n",
    "Each entry in the 'TEXT' column becomes a list of tokens, where each token represents a word from the original text."
   ]
  },
  {
   "cell_type": "code",
   "execution_count": 16,
   "id": "bacf6e9e",
   "metadata": {},
   "outputs": [],
   "source": [
    "df['TEXT'] = df['TEXT'].apply(lambda x: ' '.join(x))"
   ]
  },
  {
   "cell_type": "markdown",
   "id": "a3cf25d1",
   "metadata": {},
   "source": [
    "# Importing the libraires and module for model building "
   ]
  },
  {
   "cell_type": "code",
   "execution_count": 51,
   "id": "f99500e2",
   "metadata": {},
   "outputs": [],
   "source": [
    "from sklearn.model_selection import train_test_split\n",
    "from sklearn.feature_extraction.text import TfidfVectorizer\n",
    "from sklearn.linear_model import LogisticRegression\n",
    "from sklearn.neighbors import KNeighborsClassifier\n",
    "from sklearn import svm\n",
    "from sklearn.tree import DecisionTreeClassifier\n",
    "from sklearn.ensemble import RandomForestClassifier\n",
    "from sklearn.metrics import accuracy_score"
   ]
  },
  {
   "cell_type": "markdown",
   "id": "eeeeadf3",
   "metadata": {},
   "source": [
    "Explanation:\n",
    "\n",
    "- **train_test_split**: Used for splitting the dataset into training and testing sets.\n",
    "- **TfidfVectorizer**: Used for converting text data into TF-IDF vectors.\n",
    "- **LogisticRegression, KNeighborsClassifier, svm, DecisionTreeClassifier, RandomForestClassifier**: Various classifiers available in scikit-learn for classification tasks.\n",
    "- **accuracy_score**: Metric to evaluate the accuracy of the classifier predictions.<br>\n",
    "These modules are essential for building and evaluating machine learning models."
   ]
  },
  {
   "cell_type": "markdown",
   "id": "e2f588a1",
   "metadata": {},
   "source": [
    "# Spliting the data Into Training and Testing"
   ]
  },
  {
   "cell_type": "code",
   "execution_count": 18,
   "id": "9a1ba699",
   "metadata": {},
   "outputs": [],
   "source": [
    "X_train, X_test, y_train, y_test = train_test_split(df['TEXT'], df['LABEL'], test_size=0.2, random_state=42)\n"
   ]
  },
  {
   "cell_type": "markdown",
   "id": "9e491162",
   "metadata": {},
   "source": [
    "Explanation:\n",
    "\n",
    "- **X_train**: Training features, containing the text data.\n",
    "- **X_test**: Testing features, containing the text data.\n",
    "- **y_train**: Training labels, containing the corresponding labels.\n",
    "- **y_test**: Testing labels, containing the corresponding labels.\n",
    "- **train_test_split**: Function used to split the dataset into training and testing sets.\n",
    "- **test_size**=0.2: Specifies the proportion of the dataset to include in the testing set (here, 20%).\n",
    "- **random_state=42**: Provides a seed value for randomization, ensuring reproducibility."
   ]
  },
  {
   "cell_type": "markdown",
   "id": "28d6438d",
   "metadata": {},
   "source": [
    "# Converting Text Data to TF-IDF Vectors"
   ]
  },
  {
   "cell_type": "code",
   "execution_count": 19,
   "id": "678e93b3",
   "metadata": {},
   "outputs": [],
   "source": [
    "tfidf_vectorizer = TfidfVectorizer(max_features=5000)  \n",
    "X_train_tfidf = tfidf_vectorizer.fit_transform(X_train)\n",
    "X_test_tfidf = tfidf_vectorizer.transform(X_test)"
   ]
  },
  {
   "cell_type": "markdown",
   "id": "37f56859",
   "metadata": {},
   "source": [
    "Explanation:\n",
    "\n",
    "- **tfidf_vectorizer**: Object of TfidfVectorizer class initialized with maximum features set to 5000.\n",
    "- **fit_transform**: Method used to fit the vectorizer to the training data and transform it into TF-IDF vectors.\n",
    "- **transform**: Method used to transform the testing data into TF-IDF vectors using the same vectorizer fitted on the training data.<br>\n",
    "TF-IDF vectorization converts text data into numerical vectors, where each feature represents the importance of a term in a document relative to the entire corpus."
   ]
  },
  {
   "cell_type": "markdown",
   "id": "b661f5cc",
   "metadata": {},
   "source": [
    "# Logistic Regression "
   ]
  },
  {
   "cell_type": "code",
   "execution_count": 20,
   "id": "9a694f05",
   "metadata": {
    "scrolled": false
   },
   "outputs": [
    {
     "name": "stderr",
     "output_type": "stream",
     "text": [
      "C:\\ProgramData\\anaconda3\\lib\\site-packages\\sklearn\\linear_model\\_logistic.py:458: ConvergenceWarning: lbfgs failed to converge (status=1):\n",
      "STOP: TOTAL NO. of ITERATIONS REACHED LIMIT.\n",
      "\n",
      "Increase the number of iterations (max_iter) or scale the data as shown in:\n",
      "    https://scikit-learn.org/stable/modules/preprocessing.html\n",
      "Please also refer to the documentation for alternative solver options:\n",
      "    https://scikit-learn.org/stable/modules/linear_model.html#logistic-regression\n",
      "  n_iter_i = _check_optimize_result(\n"
     ]
    },
    {
     "data": {
      "text/html": [
       "<style>#sk-container-id-1 {color: black;background-color: white;}#sk-container-id-1 pre{padding: 0;}#sk-container-id-1 div.sk-toggleable {background-color: white;}#sk-container-id-1 label.sk-toggleable__label {cursor: pointer;display: block;width: 100%;margin-bottom: 0;padding: 0.3em;box-sizing: border-box;text-align: center;}#sk-container-id-1 label.sk-toggleable__label-arrow:before {content: \"▸\";float: left;margin-right: 0.25em;color: #696969;}#sk-container-id-1 label.sk-toggleable__label-arrow:hover:before {color: black;}#sk-container-id-1 div.sk-estimator:hover label.sk-toggleable__label-arrow:before {color: black;}#sk-container-id-1 div.sk-toggleable__content {max-height: 0;max-width: 0;overflow: hidden;text-align: left;background-color: #f0f8ff;}#sk-container-id-1 div.sk-toggleable__content pre {margin: 0.2em;color: black;border-radius: 0.25em;background-color: #f0f8ff;}#sk-container-id-1 input.sk-toggleable__control:checked~div.sk-toggleable__content {max-height: 200px;max-width: 100%;overflow: auto;}#sk-container-id-1 input.sk-toggleable__control:checked~label.sk-toggleable__label-arrow:before {content: \"▾\";}#sk-container-id-1 div.sk-estimator input.sk-toggleable__control:checked~label.sk-toggleable__label {background-color: #d4ebff;}#sk-container-id-1 div.sk-label input.sk-toggleable__control:checked~label.sk-toggleable__label {background-color: #d4ebff;}#sk-container-id-1 input.sk-hidden--visually {border: 0;clip: rect(1px 1px 1px 1px);clip: rect(1px, 1px, 1px, 1px);height: 1px;margin: -1px;overflow: hidden;padding: 0;position: absolute;width: 1px;}#sk-container-id-1 div.sk-estimator {font-family: monospace;background-color: #f0f8ff;border: 1px dotted black;border-radius: 0.25em;box-sizing: border-box;margin-bottom: 0.5em;}#sk-container-id-1 div.sk-estimator:hover {background-color: #d4ebff;}#sk-container-id-1 div.sk-parallel-item::after {content: \"\";width: 100%;border-bottom: 1px solid gray;flex-grow: 1;}#sk-container-id-1 div.sk-label:hover label.sk-toggleable__label {background-color: #d4ebff;}#sk-container-id-1 div.sk-serial::before {content: \"\";position: absolute;border-left: 1px solid gray;box-sizing: border-box;top: 0;bottom: 0;left: 50%;z-index: 0;}#sk-container-id-1 div.sk-serial {display: flex;flex-direction: column;align-items: center;background-color: white;padding-right: 0.2em;padding-left: 0.2em;position: relative;}#sk-container-id-1 div.sk-item {position: relative;z-index: 1;}#sk-container-id-1 div.sk-parallel {display: flex;align-items: stretch;justify-content: center;background-color: white;position: relative;}#sk-container-id-1 div.sk-item::before, #sk-container-id-1 div.sk-parallel-item::before {content: \"\";position: absolute;border-left: 1px solid gray;box-sizing: border-box;top: 0;bottom: 0;left: 50%;z-index: -1;}#sk-container-id-1 div.sk-parallel-item {display: flex;flex-direction: column;z-index: 1;position: relative;background-color: white;}#sk-container-id-1 div.sk-parallel-item:first-child::after {align-self: flex-end;width: 50%;}#sk-container-id-1 div.sk-parallel-item:last-child::after {align-self: flex-start;width: 50%;}#sk-container-id-1 div.sk-parallel-item:only-child::after {width: 0;}#sk-container-id-1 div.sk-dashed-wrapped {border: 1px dashed gray;margin: 0 0.4em 0.5em 0.4em;box-sizing: border-box;padding-bottom: 0.4em;background-color: white;}#sk-container-id-1 div.sk-label label {font-family: monospace;font-weight: bold;display: inline-block;line-height: 1.2em;}#sk-container-id-1 div.sk-label-container {text-align: center;}#sk-container-id-1 div.sk-container {/* jupyter's `normalize.less` sets `[hidden] { display: none; }` but bootstrap.min.css set `[hidden] { display: none !important; }` so we also need the `!important` here to be able to override the default hidden behavior on the sphinx rendered scikit-learn.org. See: https://github.com/scikit-learn/scikit-learn/issues/21755 */display: inline-block !important;position: relative;}#sk-container-id-1 div.sk-text-repr-fallback {display: none;}</style><div id=\"sk-container-id-1\" class=\"sk-top-container\"><div class=\"sk-text-repr-fallback\"><pre>LogisticRegression()</pre><b>In a Jupyter environment, please rerun this cell to show the HTML representation or trust the notebook. <br />On GitHub, the HTML representation is unable to render, please try loading this page with nbviewer.org.</b></div><div class=\"sk-container\" hidden><div class=\"sk-item\"><div class=\"sk-estimator sk-toggleable\"><input class=\"sk-toggleable__control sk-hidden--visually\" id=\"sk-estimator-id-1\" type=\"checkbox\" checked><label for=\"sk-estimator-id-1\" class=\"sk-toggleable__label sk-toggleable__label-arrow\">LogisticRegression</label><div class=\"sk-toggleable__content\"><pre>LogisticRegression()</pre></div></div></div></div></div>"
      ],
      "text/plain": [
       "LogisticRegression()"
      ]
     },
     "execution_count": 20,
     "metadata": {},
     "output_type": "execute_result"
    }
   ],
   "source": [
    "lr = LogisticRegression()\n",
    "lr.fit(X_train_tfidf,y_train)\n"
   ]
  },
  {
   "cell_type": "markdown",
   "id": "fbe7b2dd",
   "metadata": {},
   "source": [
    "Explanation:\n",
    "\n",
    "- **LogisticRegression**: Instantiates a Logistic Regression classifier.\n",
    "- **fit**: Method used to train the Logistic Regression model on the TF-IDF transformed training data (X_train_tfidf) with corresponding labels (y_train)."
   ]
  },
  {
   "cell_type": "code",
   "execution_count": 21,
   "id": "2037a316",
   "metadata": {},
   "outputs": [],
   "source": [
    "y_pred1 = lr.predict(X_test_tfidf)"
   ]
  },
  {
   "cell_type": "code",
   "execution_count": 22,
   "id": "3779af1e",
   "metadata": {},
   "outputs": [],
   "source": [
    "score1=accuracy_score(y_test,y_pred1)\n"
   ]
  },
  {
   "cell_type": "code",
   "execution_count": 23,
   "id": "008e5aae",
   "metadata": {},
   "outputs": [
    {
     "data": {
      "text/plain": [
       "0.8416"
      ]
     },
     "execution_count": 23,
     "metadata": {},
     "output_type": "execute_result"
    }
   ],
   "source": [
    "score1"
   ]
  },
  {
   "cell_type": "markdown",
   "id": "187fbaef",
   "metadata": {},
   "source": [
    "# Support Vector Machine"
   ]
  },
  {
   "cell_type": "code",
   "execution_count": 24,
   "id": "7a7ff466",
   "metadata": {},
   "outputs": [],
   "source": [
    "from sklearn import svm\n",
    "\n",
    "svm_classifier = svm.SVC()\n"
   ]
  },
  {
   "cell_type": "code",
   "execution_count": 25,
   "id": "4ee0c8d8",
   "metadata": {},
   "outputs": [
    {
     "data": {
      "text/html": [
       "<style>#sk-container-id-2 {color: black;background-color: white;}#sk-container-id-2 pre{padding: 0;}#sk-container-id-2 div.sk-toggleable {background-color: white;}#sk-container-id-2 label.sk-toggleable__label {cursor: pointer;display: block;width: 100%;margin-bottom: 0;padding: 0.3em;box-sizing: border-box;text-align: center;}#sk-container-id-2 label.sk-toggleable__label-arrow:before {content: \"▸\";float: left;margin-right: 0.25em;color: #696969;}#sk-container-id-2 label.sk-toggleable__label-arrow:hover:before {color: black;}#sk-container-id-2 div.sk-estimator:hover label.sk-toggleable__label-arrow:before {color: black;}#sk-container-id-2 div.sk-toggleable__content {max-height: 0;max-width: 0;overflow: hidden;text-align: left;background-color: #f0f8ff;}#sk-container-id-2 div.sk-toggleable__content pre {margin: 0.2em;color: black;border-radius: 0.25em;background-color: #f0f8ff;}#sk-container-id-2 input.sk-toggleable__control:checked~div.sk-toggleable__content {max-height: 200px;max-width: 100%;overflow: auto;}#sk-container-id-2 input.sk-toggleable__control:checked~label.sk-toggleable__label-arrow:before {content: \"▾\";}#sk-container-id-2 div.sk-estimator input.sk-toggleable__control:checked~label.sk-toggleable__label {background-color: #d4ebff;}#sk-container-id-2 div.sk-label input.sk-toggleable__control:checked~label.sk-toggleable__label {background-color: #d4ebff;}#sk-container-id-2 input.sk-hidden--visually {border: 0;clip: rect(1px 1px 1px 1px);clip: rect(1px, 1px, 1px, 1px);height: 1px;margin: -1px;overflow: hidden;padding: 0;position: absolute;width: 1px;}#sk-container-id-2 div.sk-estimator {font-family: monospace;background-color: #f0f8ff;border: 1px dotted black;border-radius: 0.25em;box-sizing: border-box;margin-bottom: 0.5em;}#sk-container-id-2 div.sk-estimator:hover {background-color: #d4ebff;}#sk-container-id-2 div.sk-parallel-item::after {content: \"\";width: 100%;border-bottom: 1px solid gray;flex-grow: 1;}#sk-container-id-2 div.sk-label:hover label.sk-toggleable__label {background-color: #d4ebff;}#sk-container-id-2 div.sk-serial::before {content: \"\";position: absolute;border-left: 1px solid gray;box-sizing: border-box;top: 0;bottom: 0;left: 50%;z-index: 0;}#sk-container-id-2 div.sk-serial {display: flex;flex-direction: column;align-items: center;background-color: white;padding-right: 0.2em;padding-left: 0.2em;position: relative;}#sk-container-id-2 div.sk-item {position: relative;z-index: 1;}#sk-container-id-2 div.sk-parallel {display: flex;align-items: stretch;justify-content: center;background-color: white;position: relative;}#sk-container-id-2 div.sk-item::before, #sk-container-id-2 div.sk-parallel-item::before {content: \"\";position: absolute;border-left: 1px solid gray;box-sizing: border-box;top: 0;bottom: 0;left: 50%;z-index: -1;}#sk-container-id-2 div.sk-parallel-item {display: flex;flex-direction: column;z-index: 1;position: relative;background-color: white;}#sk-container-id-2 div.sk-parallel-item:first-child::after {align-self: flex-end;width: 50%;}#sk-container-id-2 div.sk-parallel-item:last-child::after {align-self: flex-start;width: 50%;}#sk-container-id-2 div.sk-parallel-item:only-child::after {width: 0;}#sk-container-id-2 div.sk-dashed-wrapped {border: 1px dashed gray;margin: 0 0.4em 0.5em 0.4em;box-sizing: border-box;padding-bottom: 0.4em;background-color: white;}#sk-container-id-2 div.sk-label label {font-family: monospace;font-weight: bold;display: inline-block;line-height: 1.2em;}#sk-container-id-2 div.sk-label-container {text-align: center;}#sk-container-id-2 div.sk-container {/* jupyter's `normalize.less` sets `[hidden] { display: none; }` but bootstrap.min.css set `[hidden] { display: none !important; }` so we also need the `!important` here to be able to override the default hidden behavior on the sphinx rendered scikit-learn.org. See: https://github.com/scikit-learn/scikit-learn/issues/21755 */display: inline-block !important;position: relative;}#sk-container-id-2 div.sk-text-repr-fallback {display: none;}</style><div id=\"sk-container-id-2\" class=\"sk-top-container\"><div class=\"sk-text-repr-fallback\"><pre>SVC()</pre><b>In a Jupyter environment, please rerun this cell to show the HTML representation or trust the notebook. <br />On GitHub, the HTML representation is unable to render, please try loading this page with nbviewer.org.</b></div><div class=\"sk-container\" hidden><div class=\"sk-item\"><div class=\"sk-estimator sk-toggleable\"><input class=\"sk-toggleable__control sk-hidden--visually\" id=\"sk-estimator-id-2\" type=\"checkbox\" checked><label for=\"sk-estimator-id-2\" class=\"sk-toggleable__label sk-toggleable__label-arrow\">SVC</label><div class=\"sk-toggleable__content\"><pre>SVC()</pre></div></div></div></div></div>"
      ],
      "text/plain": [
       "SVC()"
      ]
     },
     "execution_count": 25,
     "metadata": {},
     "output_type": "execute_result"
    }
   ],
   "source": [
    "svm_classifier.fit(X_train_tfidf,y_train)"
   ]
  },
  {
   "cell_type": "markdown",
   "id": "c8b70c26",
   "metadata": {},
   "source": [
    "Explanation:\n",
    "\n",
    "- **svm**: Module from scikit-learn containing Support Vector Machine algorithms.\n",
    "- **SVC**: Instantiates a Support Vector Classification (SVC) model, which is used for classification tasks.\n",
    "- **svm_classifier**: Variable holding the SVM classifier object."
   ]
  },
  {
   "cell_type": "code",
   "execution_count": 26,
   "id": "f7c4dc54",
   "metadata": {},
   "outputs": [],
   "source": [
    "y_pred2 = svm_classifier.predict(X_test_tfidf)"
   ]
  },
  {
   "cell_type": "code",
   "execution_count": 27,
   "id": "a1caead2",
   "metadata": {},
   "outputs": [],
   "source": [
    "score2=accuracy_score(y_test,y_pred2)"
   ]
  },
  {
   "cell_type": "code",
   "execution_count": 28,
   "id": "e4d83bd9",
   "metadata": {},
   "outputs": [
    {
     "data": {
      "text/plain": [
       "0.8486666666666667"
      ]
     },
     "execution_count": 28,
     "metadata": {},
     "output_type": "execute_result"
    }
   ],
   "source": [
    "score2"
   ]
  },
  {
   "cell_type": "markdown",
   "id": "cf3ccd8b",
   "metadata": {},
   "source": [
    "# K-Nearest Neighbors"
   ]
  },
  {
   "cell_type": "code",
   "execution_count": 29,
   "id": "226352c5",
   "metadata": {},
   "outputs": [
    {
     "data": {
      "text/html": [
       "<style>#sk-container-id-3 {color: black;background-color: white;}#sk-container-id-3 pre{padding: 0;}#sk-container-id-3 div.sk-toggleable {background-color: white;}#sk-container-id-3 label.sk-toggleable__label {cursor: pointer;display: block;width: 100%;margin-bottom: 0;padding: 0.3em;box-sizing: border-box;text-align: center;}#sk-container-id-3 label.sk-toggleable__label-arrow:before {content: \"▸\";float: left;margin-right: 0.25em;color: #696969;}#sk-container-id-3 label.sk-toggleable__label-arrow:hover:before {color: black;}#sk-container-id-3 div.sk-estimator:hover label.sk-toggleable__label-arrow:before {color: black;}#sk-container-id-3 div.sk-toggleable__content {max-height: 0;max-width: 0;overflow: hidden;text-align: left;background-color: #f0f8ff;}#sk-container-id-3 div.sk-toggleable__content pre {margin: 0.2em;color: black;border-radius: 0.25em;background-color: #f0f8ff;}#sk-container-id-3 input.sk-toggleable__control:checked~div.sk-toggleable__content {max-height: 200px;max-width: 100%;overflow: auto;}#sk-container-id-3 input.sk-toggleable__control:checked~label.sk-toggleable__label-arrow:before {content: \"▾\";}#sk-container-id-3 div.sk-estimator input.sk-toggleable__control:checked~label.sk-toggleable__label {background-color: #d4ebff;}#sk-container-id-3 div.sk-label input.sk-toggleable__control:checked~label.sk-toggleable__label {background-color: #d4ebff;}#sk-container-id-3 input.sk-hidden--visually {border: 0;clip: rect(1px 1px 1px 1px);clip: rect(1px, 1px, 1px, 1px);height: 1px;margin: -1px;overflow: hidden;padding: 0;position: absolute;width: 1px;}#sk-container-id-3 div.sk-estimator {font-family: monospace;background-color: #f0f8ff;border: 1px dotted black;border-radius: 0.25em;box-sizing: border-box;margin-bottom: 0.5em;}#sk-container-id-3 div.sk-estimator:hover {background-color: #d4ebff;}#sk-container-id-3 div.sk-parallel-item::after {content: \"\";width: 100%;border-bottom: 1px solid gray;flex-grow: 1;}#sk-container-id-3 div.sk-label:hover label.sk-toggleable__label {background-color: #d4ebff;}#sk-container-id-3 div.sk-serial::before {content: \"\";position: absolute;border-left: 1px solid gray;box-sizing: border-box;top: 0;bottom: 0;left: 50%;z-index: 0;}#sk-container-id-3 div.sk-serial {display: flex;flex-direction: column;align-items: center;background-color: white;padding-right: 0.2em;padding-left: 0.2em;position: relative;}#sk-container-id-3 div.sk-item {position: relative;z-index: 1;}#sk-container-id-3 div.sk-parallel {display: flex;align-items: stretch;justify-content: center;background-color: white;position: relative;}#sk-container-id-3 div.sk-item::before, #sk-container-id-3 div.sk-parallel-item::before {content: \"\";position: absolute;border-left: 1px solid gray;box-sizing: border-box;top: 0;bottom: 0;left: 50%;z-index: -1;}#sk-container-id-3 div.sk-parallel-item {display: flex;flex-direction: column;z-index: 1;position: relative;background-color: white;}#sk-container-id-3 div.sk-parallel-item:first-child::after {align-self: flex-end;width: 50%;}#sk-container-id-3 div.sk-parallel-item:last-child::after {align-self: flex-start;width: 50%;}#sk-container-id-3 div.sk-parallel-item:only-child::after {width: 0;}#sk-container-id-3 div.sk-dashed-wrapped {border: 1px dashed gray;margin: 0 0.4em 0.5em 0.4em;box-sizing: border-box;padding-bottom: 0.4em;background-color: white;}#sk-container-id-3 div.sk-label label {font-family: monospace;font-weight: bold;display: inline-block;line-height: 1.2em;}#sk-container-id-3 div.sk-label-container {text-align: center;}#sk-container-id-3 div.sk-container {/* jupyter's `normalize.less` sets `[hidden] { display: none; }` but bootstrap.min.css set `[hidden] { display: none !important; }` so we also need the `!important` here to be able to override the default hidden behavior on the sphinx rendered scikit-learn.org. See: https://github.com/scikit-learn/scikit-learn/issues/21755 */display: inline-block !important;position: relative;}#sk-container-id-3 div.sk-text-repr-fallback {display: none;}</style><div id=\"sk-container-id-3\" class=\"sk-top-container\"><div class=\"sk-text-repr-fallback\"><pre>KNeighborsClassifier()</pre><b>In a Jupyter environment, please rerun this cell to show the HTML representation or trust the notebook. <br />On GitHub, the HTML representation is unable to render, please try loading this page with nbviewer.org.</b></div><div class=\"sk-container\" hidden><div class=\"sk-item\"><div class=\"sk-estimator sk-toggleable\"><input class=\"sk-toggleable__control sk-hidden--visually\" id=\"sk-estimator-id-3\" type=\"checkbox\" checked><label for=\"sk-estimator-id-3\" class=\"sk-toggleable__label sk-toggleable__label-arrow\">KNeighborsClassifier</label><div class=\"sk-toggleable__content\"><pre>KNeighborsClassifier()</pre></div></div></div></div></div>"
      ],
      "text/plain": [
       "KNeighborsClassifier()"
      ]
     },
     "execution_count": 29,
     "metadata": {},
     "output_type": "execute_result"
    }
   ],
   "source": [
    "knn=KNeighborsClassifier()\n",
    "knn.fit(X_train_tfidf,y_train)\n"
   ]
  },
  {
   "cell_type": "markdown",
   "id": "74b8cfba",
   "metadata": {},
   "source": [
    "Explanation:\n",
    "\n",
    "- **KNeighborsClassifier**: Instantiates a K-Nearest Neighbors classifier.\n",
    "- **fit**: Method used to train the KNN model on the TF-IDF transformed training data (X_train_tfidf) with corresponding labels (y_train)."
   ]
  },
  {
   "cell_type": "code",
   "execution_count": 30,
   "id": "02a224e7",
   "metadata": {},
   "outputs": [],
   "source": [
    "y_pred3 = knn.predict(X_test_tfidf)"
   ]
  },
  {
   "cell_type": "code",
   "execution_count": 31,
   "id": "a3b26e4c",
   "metadata": {},
   "outputs": [],
   "source": [
    "score3 = accuracy_score(y_test,y_pred3)"
   ]
  },
  {
   "cell_type": "code",
   "execution_count": 32,
   "id": "2b2b9914",
   "metadata": {},
   "outputs": [
    {
     "data": {
      "text/plain": [
       "0.21906666666666666"
      ]
     },
     "execution_count": 32,
     "metadata": {},
     "output_type": "execute_result"
    }
   ],
   "source": [
    "score3"
   ]
  },
  {
   "cell_type": "markdown",
   "id": "96e2fd50",
   "metadata": {},
   "source": [
    "# Decision Tree"
   ]
  },
  {
   "cell_type": "code",
   "execution_count": 33,
   "id": "bd79de86",
   "metadata": {},
   "outputs": [
    {
     "data": {
      "text/html": [
       "<style>#sk-container-id-4 {color: black;background-color: white;}#sk-container-id-4 pre{padding: 0;}#sk-container-id-4 div.sk-toggleable {background-color: white;}#sk-container-id-4 label.sk-toggleable__label {cursor: pointer;display: block;width: 100%;margin-bottom: 0;padding: 0.3em;box-sizing: border-box;text-align: center;}#sk-container-id-4 label.sk-toggleable__label-arrow:before {content: \"▸\";float: left;margin-right: 0.25em;color: #696969;}#sk-container-id-4 label.sk-toggleable__label-arrow:hover:before {color: black;}#sk-container-id-4 div.sk-estimator:hover label.sk-toggleable__label-arrow:before {color: black;}#sk-container-id-4 div.sk-toggleable__content {max-height: 0;max-width: 0;overflow: hidden;text-align: left;background-color: #f0f8ff;}#sk-container-id-4 div.sk-toggleable__content pre {margin: 0.2em;color: black;border-radius: 0.25em;background-color: #f0f8ff;}#sk-container-id-4 input.sk-toggleable__control:checked~div.sk-toggleable__content {max-height: 200px;max-width: 100%;overflow: auto;}#sk-container-id-4 input.sk-toggleable__control:checked~label.sk-toggleable__label-arrow:before {content: \"▾\";}#sk-container-id-4 div.sk-estimator input.sk-toggleable__control:checked~label.sk-toggleable__label {background-color: #d4ebff;}#sk-container-id-4 div.sk-label input.sk-toggleable__control:checked~label.sk-toggleable__label {background-color: #d4ebff;}#sk-container-id-4 input.sk-hidden--visually {border: 0;clip: rect(1px 1px 1px 1px);clip: rect(1px, 1px, 1px, 1px);height: 1px;margin: -1px;overflow: hidden;padding: 0;position: absolute;width: 1px;}#sk-container-id-4 div.sk-estimator {font-family: monospace;background-color: #f0f8ff;border: 1px dotted black;border-radius: 0.25em;box-sizing: border-box;margin-bottom: 0.5em;}#sk-container-id-4 div.sk-estimator:hover {background-color: #d4ebff;}#sk-container-id-4 div.sk-parallel-item::after {content: \"\";width: 100%;border-bottom: 1px solid gray;flex-grow: 1;}#sk-container-id-4 div.sk-label:hover label.sk-toggleable__label {background-color: #d4ebff;}#sk-container-id-4 div.sk-serial::before {content: \"\";position: absolute;border-left: 1px solid gray;box-sizing: border-box;top: 0;bottom: 0;left: 50%;z-index: 0;}#sk-container-id-4 div.sk-serial {display: flex;flex-direction: column;align-items: center;background-color: white;padding-right: 0.2em;padding-left: 0.2em;position: relative;}#sk-container-id-4 div.sk-item {position: relative;z-index: 1;}#sk-container-id-4 div.sk-parallel {display: flex;align-items: stretch;justify-content: center;background-color: white;position: relative;}#sk-container-id-4 div.sk-item::before, #sk-container-id-4 div.sk-parallel-item::before {content: \"\";position: absolute;border-left: 1px solid gray;box-sizing: border-box;top: 0;bottom: 0;left: 50%;z-index: -1;}#sk-container-id-4 div.sk-parallel-item {display: flex;flex-direction: column;z-index: 1;position: relative;background-color: white;}#sk-container-id-4 div.sk-parallel-item:first-child::after {align-self: flex-end;width: 50%;}#sk-container-id-4 div.sk-parallel-item:last-child::after {align-self: flex-start;width: 50%;}#sk-container-id-4 div.sk-parallel-item:only-child::after {width: 0;}#sk-container-id-4 div.sk-dashed-wrapped {border: 1px dashed gray;margin: 0 0.4em 0.5em 0.4em;box-sizing: border-box;padding-bottom: 0.4em;background-color: white;}#sk-container-id-4 div.sk-label label {font-family: monospace;font-weight: bold;display: inline-block;line-height: 1.2em;}#sk-container-id-4 div.sk-label-container {text-align: center;}#sk-container-id-4 div.sk-container {/* jupyter's `normalize.less` sets `[hidden] { display: none; }` but bootstrap.min.css set `[hidden] { display: none !important; }` so we also need the `!important` here to be able to override the default hidden behavior on the sphinx rendered scikit-learn.org. See: https://github.com/scikit-learn/scikit-learn/issues/21755 */display: inline-block !important;position: relative;}#sk-container-id-4 div.sk-text-repr-fallback {display: none;}</style><div id=\"sk-container-id-4\" class=\"sk-top-container\"><div class=\"sk-text-repr-fallback\"><pre>DecisionTreeClassifier()</pre><b>In a Jupyter environment, please rerun this cell to show the HTML representation or trust the notebook. <br />On GitHub, the HTML representation is unable to render, please try loading this page with nbviewer.org.</b></div><div class=\"sk-container\" hidden><div class=\"sk-item\"><div class=\"sk-estimator sk-toggleable\"><input class=\"sk-toggleable__control sk-hidden--visually\" id=\"sk-estimator-id-4\" type=\"checkbox\" checked><label for=\"sk-estimator-id-4\" class=\"sk-toggleable__label sk-toggleable__label-arrow\">DecisionTreeClassifier</label><div class=\"sk-toggleable__content\"><pre>DecisionTreeClassifier()</pre></div></div></div></div></div>"
      ],
      "text/plain": [
       "DecisionTreeClassifier()"
      ]
     },
     "execution_count": 33,
     "metadata": {},
     "output_type": "execute_result"
    }
   ],
   "source": [
    "dt=DecisionTreeClassifier()\n",
    "dt.fit(X_train_tfidf,y_train)"
   ]
  },
  {
   "cell_type": "markdown",
   "id": "a22fc797",
   "metadata": {},
   "source": [
    "Explanation:\n",
    "\n",
    "- **DecisionTreeClassifier**: Instantiates a Decision Tree classifier.\n",
    "- **fit**: Method used to train the Decision Tree model on the TF-IDF transformed training data (X_train_tfidf) with corresponding labels (y_train)."
   ]
  },
  {
   "cell_type": "code",
   "execution_count": 34,
   "id": "0cb93712",
   "metadata": {},
   "outputs": [],
   "source": [
    "y_pred4 = dt.predict(X_test_tfidf)"
   ]
  },
  {
   "cell_type": "code",
   "execution_count": 35,
   "id": "874429aa",
   "metadata": {},
   "outputs": [],
   "source": [
    "score4 = accuracy_score(y_test,y_pred4)"
   ]
  },
  {
   "cell_type": "code",
   "execution_count": 36,
   "id": "fda54d8b",
   "metadata": {},
   "outputs": [
    {
     "data": {
      "text/plain": [
       "0.8562666666666666"
      ]
     },
     "execution_count": 36,
     "metadata": {},
     "output_type": "execute_result"
    }
   ],
   "source": [
    "score4"
   ]
  },
  {
   "cell_type": "markdown",
   "id": "6532f56d",
   "metadata": {},
   "source": [
    "# Random Forest"
   ]
  },
  {
   "cell_type": "code",
   "execution_count": 37,
   "id": "bf945ce6",
   "metadata": {},
   "outputs": [
    {
     "data": {
      "text/html": [
       "<style>#sk-container-id-5 {color: black;background-color: white;}#sk-container-id-5 pre{padding: 0;}#sk-container-id-5 div.sk-toggleable {background-color: white;}#sk-container-id-5 label.sk-toggleable__label {cursor: pointer;display: block;width: 100%;margin-bottom: 0;padding: 0.3em;box-sizing: border-box;text-align: center;}#sk-container-id-5 label.sk-toggleable__label-arrow:before {content: \"▸\";float: left;margin-right: 0.25em;color: #696969;}#sk-container-id-5 label.sk-toggleable__label-arrow:hover:before {color: black;}#sk-container-id-5 div.sk-estimator:hover label.sk-toggleable__label-arrow:before {color: black;}#sk-container-id-5 div.sk-toggleable__content {max-height: 0;max-width: 0;overflow: hidden;text-align: left;background-color: #f0f8ff;}#sk-container-id-5 div.sk-toggleable__content pre {margin: 0.2em;color: black;border-radius: 0.25em;background-color: #f0f8ff;}#sk-container-id-5 input.sk-toggleable__control:checked~div.sk-toggleable__content {max-height: 200px;max-width: 100%;overflow: auto;}#sk-container-id-5 input.sk-toggleable__control:checked~label.sk-toggleable__label-arrow:before {content: \"▾\";}#sk-container-id-5 div.sk-estimator input.sk-toggleable__control:checked~label.sk-toggleable__label {background-color: #d4ebff;}#sk-container-id-5 div.sk-label input.sk-toggleable__control:checked~label.sk-toggleable__label {background-color: #d4ebff;}#sk-container-id-5 input.sk-hidden--visually {border: 0;clip: rect(1px 1px 1px 1px);clip: rect(1px, 1px, 1px, 1px);height: 1px;margin: -1px;overflow: hidden;padding: 0;position: absolute;width: 1px;}#sk-container-id-5 div.sk-estimator {font-family: monospace;background-color: #f0f8ff;border: 1px dotted black;border-radius: 0.25em;box-sizing: border-box;margin-bottom: 0.5em;}#sk-container-id-5 div.sk-estimator:hover {background-color: #d4ebff;}#sk-container-id-5 div.sk-parallel-item::after {content: \"\";width: 100%;border-bottom: 1px solid gray;flex-grow: 1;}#sk-container-id-5 div.sk-label:hover label.sk-toggleable__label {background-color: #d4ebff;}#sk-container-id-5 div.sk-serial::before {content: \"\";position: absolute;border-left: 1px solid gray;box-sizing: border-box;top: 0;bottom: 0;left: 50%;z-index: 0;}#sk-container-id-5 div.sk-serial {display: flex;flex-direction: column;align-items: center;background-color: white;padding-right: 0.2em;padding-left: 0.2em;position: relative;}#sk-container-id-5 div.sk-item {position: relative;z-index: 1;}#sk-container-id-5 div.sk-parallel {display: flex;align-items: stretch;justify-content: center;background-color: white;position: relative;}#sk-container-id-5 div.sk-item::before, #sk-container-id-5 div.sk-parallel-item::before {content: \"\";position: absolute;border-left: 1px solid gray;box-sizing: border-box;top: 0;bottom: 0;left: 50%;z-index: -1;}#sk-container-id-5 div.sk-parallel-item {display: flex;flex-direction: column;z-index: 1;position: relative;background-color: white;}#sk-container-id-5 div.sk-parallel-item:first-child::after {align-self: flex-end;width: 50%;}#sk-container-id-5 div.sk-parallel-item:last-child::after {align-self: flex-start;width: 50%;}#sk-container-id-5 div.sk-parallel-item:only-child::after {width: 0;}#sk-container-id-5 div.sk-dashed-wrapped {border: 1px dashed gray;margin: 0 0.4em 0.5em 0.4em;box-sizing: border-box;padding-bottom: 0.4em;background-color: white;}#sk-container-id-5 div.sk-label label {font-family: monospace;font-weight: bold;display: inline-block;line-height: 1.2em;}#sk-container-id-5 div.sk-label-container {text-align: center;}#sk-container-id-5 div.sk-container {/* jupyter's `normalize.less` sets `[hidden] { display: none; }` but bootstrap.min.css set `[hidden] { display: none !important; }` so we also need the `!important` here to be able to override the default hidden behavior on the sphinx rendered scikit-learn.org. See: https://github.com/scikit-learn/scikit-learn/issues/21755 */display: inline-block !important;position: relative;}#sk-container-id-5 div.sk-text-repr-fallback {display: none;}</style><div id=\"sk-container-id-5\" class=\"sk-top-container\"><div class=\"sk-text-repr-fallback\"><pre>RandomForestClassifier()</pre><b>In a Jupyter environment, please rerun this cell to show the HTML representation or trust the notebook. <br />On GitHub, the HTML representation is unable to render, please try loading this page with nbviewer.org.</b></div><div class=\"sk-container\" hidden><div class=\"sk-item\"><div class=\"sk-estimator sk-toggleable\"><input class=\"sk-toggleable__control sk-hidden--visually\" id=\"sk-estimator-id-5\" type=\"checkbox\" checked><label for=\"sk-estimator-id-5\" class=\"sk-toggleable__label sk-toggleable__label-arrow\">RandomForestClassifier</label><div class=\"sk-toggleable__content\"><pre>RandomForestClassifier()</pre></div></div></div></div></div>"
      ],
      "text/plain": [
       "RandomForestClassifier()"
      ]
     },
     "execution_count": 37,
     "metadata": {},
     "output_type": "execute_result"
    }
   ],
   "source": [
    "rf=RandomForestClassifier()\n",
    "rf.fit(X_train_tfidf,y_train)"
   ]
  },
  {
   "cell_type": "markdown",
   "id": "be4bb608",
   "metadata": {},
   "source": [
    "Explanation:\n",
    "\n",
    "- **RandomForestClassifier**: Instantiates Random Forest classifier.\n",
    "- **fit**: Method used to train the Random Forest model on the TF-IDF transformed training data (X_train_tfidf) with corresponding labels (y_train)."
   ]
  },
  {
   "cell_type": "code",
   "execution_count": 38,
   "id": "1e95d931",
   "metadata": {},
   "outputs": [],
   "source": [
    "y_pred5 = rf.predict(X_test_tfidf)"
   ]
  },
  {
   "cell_type": "code",
   "execution_count": 39,
   "id": "4a75e7d3",
   "metadata": {},
   "outputs": [],
   "source": [
    "score5 = accuracy_score(y_test,y_pred5)"
   ]
  },
  {
   "cell_type": "code",
   "execution_count": 40,
   "id": "8f309d56",
   "metadata": {},
   "outputs": [
    {
     "data": {
      "text/plain": [
       "0.8830666666666667"
      ]
     },
     "execution_count": 40,
     "metadata": {},
     "output_type": "execute_result"
    }
   ],
   "source": [
    "score5"
   ]
  },
  {
   "cell_type": "markdown",
   "id": "d76952cc",
   "metadata": {},
   "source": [
    "# Creating DataFrame for Model Evaluation "
   ]
  },
  {
   "cell_type": "code",
   "execution_count": 41,
   "id": "5c028902",
   "metadata": {},
   "outputs": [],
   "source": [
    "final_data = pd.DataFrame({'Models':['LR','SVC','KNN','DT','RF'],\n",
    "            'ACC':[score1*100,\n",
    "                   score2*100,\n",
    "                   score3*100,\n",
    "                   score4*100,\n",
    "                   score5*100]})"
   ]
  },
  {
   "cell_type": "markdown",
   "id": "df1a2fe6",
   "metadata": {},
   "source": [
    "Explanation:\n",
    "\n",
    "- **pd.DataFrame**: Function used to create a DataFrame from a dictionary.\n",
    "- **Models**: Column containing the names of the models.\n",
    "- **ACC**: Column containing the accuracy scores of the models, multiplied by 100 to represent percentages."
   ]
  },
  {
   "cell_type": "code",
   "execution_count": 42,
   "id": "52e90c38",
   "metadata": {},
   "outputs": [
    {
     "data": {
      "text/html": [
       "<div>\n",
       "<style scoped>\n",
       "    .dataframe tbody tr th:only-of-type {\n",
       "        vertical-align: middle;\n",
       "    }\n",
       "\n",
       "    .dataframe tbody tr th {\n",
       "        vertical-align: top;\n",
       "    }\n",
       "\n",
       "    .dataframe thead th {\n",
       "        text-align: right;\n",
       "    }\n",
       "</style>\n",
       "<table border=\"1\" class=\"dataframe\">\n",
       "  <thead>\n",
       "    <tr style=\"text-align: right;\">\n",
       "      <th></th>\n",
       "      <th>Models</th>\n",
       "      <th>ACC</th>\n",
       "    </tr>\n",
       "  </thead>\n",
       "  <tbody>\n",
       "    <tr>\n",
       "      <th>0</th>\n",
       "      <td>LR</td>\n",
       "      <td>84.160000</td>\n",
       "    </tr>\n",
       "    <tr>\n",
       "      <th>1</th>\n",
       "      <td>SVC</td>\n",
       "      <td>84.866667</td>\n",
       "    </tr>\n",
       "    <tr>\n",
       "      <th>2</th>\n",
       "      <td>KNN</td>\n",
       "      <td>21.906667</td>\n",
       "    </tr>\n",
       "    <tr>\n",
       "      <th>3</th>\n",
       "      <td>DT</td>\n",
       "      <td>85.626667</td>\n",
       "    </tr>\n",
       "    <tr>\n",
       "      <th>4</th>\n",
       "      <td>RF</td>\n",
       "      <td>88.306667</td>\n",
       "    </tr>\n",
       "  </tbody>\n",
       "</table>\n",
       "</div>"
      ],
      "text/plain": [
       "  Models        ACC\n",
       "0     LR  84.160000\n",
       "1    SVC  84.866667\n",
       "2    KNN  21.906667\n",
       "3     DT  85.626667\n",
       "4     RF  88.306667"
      ]
     },
     "execution_count": 42,
     "metadata": {},
     "output_type": "execute_result"
    }
   ],
   "source": [
    "final_data"
   ]
  },
  {
   "cell_type": "markdown",
   "id": "10ade99f",
   "metadata": {},
   "source": [
    "# Visualizing Model Performance"
   ]
  },
  {
   "cell_type": "code",
   "execution_count": 55,
   "id": "62734513",
   "metadata": {},
   "outputs": [
    {
     "data": {
      "text/plain": [
       "<Axes: xlabel='Models', ylabel='ACC'>"
      ]
     },
     "execution_count": 55,
     "metadata": {},
     "output_type": "execute_result"
    },
    {
     "data": {
      "image/png": "[encoded data removed]",
      "text/plain": [
       "<Figure size 640x480 with 1 Axes>"
      ]
     },
     "metadata": {},
     "output_type": "display_data"
    }
   ],
   "source": [
    "import seaborn as sns\n",
    "\n",
    "sns.barplot(x=final_data['Models'],y=final_data['ACC'])"
   ]
  },
  {
   "cell_type": "markdown",
   "id": "9e5d9a57",
   "metadata": {},
   "source": [
    "Explanation:\n",
    "\n",
    "- **sns.barplot**: Function from the Seaborn library used to create a bar plot.\n",
    "- **x**: Data for the x-axis, which is the 'Models' column from the final_data DataFrame.\n",
    "- **y**: Data for the y-axis, which is the 'ACC' column from the final_data DataFrame.<br>\n",
    "This bar plot provides a visual comparison of the accuracy scores of different models."
   ]
  },
  {
   "cell_type": "markdown",
   "id": "ac7d3ff6",
   "metadata": {},
   "source": [
    "# Saving the model with the highest accuracy "
   ]
  },
  {
   "cell_type": "code",
   "execution_count": 56,
   "id": "7b64e104",
   "metadata": {},
   "outputs": [
    {
     "data": {
      "text/plain": [
       "['rf.pkl']"
      ]
     },
     "execution_count": 56,
     "metadata": {},
     "output_type": "execute_result"
    }
   ],
   "source": [
    "import joblib\n",
    "joblib.dump(rf, \"rf.pkl\")"
   ]
  },
  {
   "cell_type": "markdown",
   "id": "c7b50293",
   "metadata": {},
   "source": [
    "# Prediction"
   ]
  },
  {
   "cell_type": "markdown",
   "id": "d8898678",
   "metadata": {},
   "source": [
    "###  Importing the libraries"
   ]
  },
  {
   "cell_type": "code",
   "execution_count": 44,
   "id": "de55b52f",
   "metadata": {},
   "outputs": [],
   "source": [
    "import nltk\n",
    "from nltk.corpus import stopwords\n",
    "from nltk.tokenize import word_tokenize\n",
    "import string"
   ]
  },
  {
   "cell_type": "markdown",
   "id": "cb527b9a",
   "metadata": {},
   "source": [
    "### Preporcessing the  given Data"
   ]
  },
  {
   "cell_type": "code",
   "execution_count": 45,
   "id": "90cc21c6",
   "metadata": {},
   "outputs": [],
   "source": [
    "def preprocess_text(text):\n",
    "    tokens = word_tokenize(text)\n",
    "    tokens = [word for word in tokens if word.isalnum()]\n",
    "    tokens = [word.lower() for word in tokens]\n",
    "    stop_words = set(stopwords.words('english'))\n",
    "    tokens = [word for word in tokens if word not in stop_words]\n",
    "    processed_text = ' '.join(tokens)\n",
    "\n",
    "    return processed_text"
   ]
  },
  {
   "cell_type": "markdown",
   "id": "0162de0d",
   "metadata": {},
   "source": [
    "Explanation:\n",
    "\n",
    "- **preprocess_text function**: This function takes a string of text as input and performs several preprocessing steps, including tokenization, removing non-alphanumeric tokens, converting tokens to lowercase, and removing stopwords.\n",
    "- **nltk.tokenize.word_tokenize**: Function from the NLTK library used to tokenize the text.\n",
    "- **nltk.corpus.stopwords**: Set of stopwords from the NLTK library used to remove stopwords from the text."
   ]
  },
  {
   "cell_type": "code",
   "execution_count": 46,
   "id": "c004d7a1",
   "metadata": {},
   "outputs": [
    {
     "data": {
      "text/plain": [
       "'nasopharyngeal'"
      ]
     },
     "execution_count": 46,
     "metadata": {},
     "output_type": "execute_result"
    }
   ],
   "source": [
    "new_text = \"2. Respiratory: The child was noted to have diffuse expiratory wheeze, harsh cough, did require oxygen supplementation for roughly 36 hours and gradually improved. He was suctioned for nasal congestion but was not treated with nebs. 3. Infectious Disease: NP swab for RSV was positive. Chest x-ray was negative. The child did not receive any antibiotics while hospitalized.\"\n",
    "\n",
    "new_text_processed = preprocess_text(new_text)\n",
    "new_text_vectorized = tfidf_vectorizer.transform([new_text_processed])\n",
    "\n",
    "\n",
    "predicted_label = rf.predict(new_text_vectorized)[0]\n",
    "\n",
    "predicted_label"
   ]
  },
  {
   "cell_type": "markdown",
   "id": "f21010a9",
   "metadata": {},
   "source": [
    "Explanation:\n",
    "\n",
    "- **new_text**: The new text to be processed and classified.\n",
    "- **preprocess_text**: The preprocess_text function is applied to the new text to preprocess it.\n",
    "- **tfidf_vectorizer**: The TF-IDF vectorizer is then used to transform the preprocessed text into TF-IDF vectors.\n",
    "- **rf**: The trained Random Forest classifier (rf) is used to predict the label for the new text based on the TF-IDF vectors.\n",
    "- **predicted_label**: The predicted label for the new text."
   ]
  },
  {
   "cell_type": "markdown",
   "id": "6d8e58d8",
   "metadata": {},
   "source": [
    "# Thank You \n",
    "\n",
    "\n",
    "# Team : TECHSQUAD"
   ]
  },
  {
   "cell_type": "code",
   "execution_count": null,
   "id": "82017c21",
   "metadata": {},
   "outputs": [],
   "source": []
  }
 ],
 "metadata": {
  "kernelspec": {
   "display_name": "Python 3 (ipykernel)",
   "language": "python",
   "name": "python3"
  },
  "language_info": {
   "codemirror_mode": {
    "name": "ipython",
    "version": 3
   },
   "file_extension": ".py",
   "mimetype": "text/x-python",
   "name": "python",
   "nbconvert_exporter": "python",
   "pygments_lexer": "ipython3",
   "version": "3.10.9"
  }
 },
 "nbformat": 4,
 "nbformat_minor": 5
}
